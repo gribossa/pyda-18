{
 "cells": [
  {
   "cell_type": "markdown",
   "metadata": {},
   "source": [
    "Задание 1."
   ]
  },
  {
   "cell_type": "code",
   "execution_count": 232,
   "metadata": {},
   "outputs": [],
   "source": [
    "import requests"
   ]
  },
  {
   "cell_type": "code",
   "execution_count": 236,
   "metadata": {},
   "outputs": [],
   "source": [
    "def name_of_max_currency():\n",
    "    exchange_rates = requests.get('https://www.cbr-xml-daily.ru/daily_json.js')\n",
    "    exchange_rates_list = []\n",
    "    for currency in exchange_rates.json()['Valute'].values():\n",
    "        rate = currency['Value']\n",
    "        exchange_rates_list.append(rate)\n",
    "    max_currency_value = max(exchange_rates_list)\n",
    "    for currency in exchange_rates.json()['Valute'].values():\n",
    "        if max_currency_value == currency['Value']:\n",
    "            print(currency['Name'], ':', currency['Value'])\n",
    "        else:\n",
    "            continue"
   ]
  },
  {
   "cell_type": "code",
   "execution_count": 237,
   "metadata": {},
   "outputs": [
    {
     "name": "stdout",
     "output_type": "stream",
     "text": [
      "СДР (специальные права заимствования) : 109.8207\n"
     ]
    }
   ],
   "source": [
    "name_of_max_currency()"
   ]
  },
  {
   "cell_type": "markdown",
   "metadata": {},
   "source": [
    "Задание 2."
   ]
  },
  {
   "cell_type": "code",
   "execution_count": 238,
   "metadata": {},
   "outputs": [],
   "source": [
    "import sys"
   ]
  },
  {
   "cell_type": "code",
   "execution_count": 239,
   "metadata": {},
   "outputs": [
    {
     "data": {
      "text/plain": [
       "['/Users/sonyasha/pyda_homeworks/classes',\n",
       " '/Applications/anaconda3/lib/python38.zip',\n",
       " '/Applications/anaconda3/lib/python3.8',\n",
       " '/Applications/anaconda3/lib/python3.8/lib-dynload',\n",
       " '',\n",
       " '/Applications/anaconda3/lib/python3.8/site-packages',\n",
       " '/Applications/anaconda3/lib/python3.8/site-packages/aeosa',\n",
       " '/Applications/anaconda3/lib/python3.8/site-packages/IPython/extensions',\n",
       " '/Users/sonyasha/.ipython',\n",
       " '/Users/sonyasha/Downloads/libs',\n",
       " '/Users/sonyasha/Downloads/libs',\n",
       " '/Users/sonyasha/pyda_homeworks/classes/libs',\n",
       " '/Users/sonyasha/pyda_homeworks/classes/libs',\n",
       " '/Users/sonyasha/pyda_homeworks/classes/libs',\n",
       " '/Users/sonyasha/pyda_homeworks/classes/libs/exchange.py',\n",
       " '/Users/sonyasha/pyda_homeworks/classes/libs/exchange.py',\n",
       " '/Users/sonyasha/pyda_homeworks/classes/libs/exchange.py']"
      ]
     },
     "execution_count": 239,
     "metadata": {},
     "output_type": "execute_result"
    }
   ],
   "source": [
    "sys.path.append('/Users/sonyasha/pyda_homeworks/classes/libs/exchange.py')\n",
    "sys.path"
   ]
  },
  {
   "cell_type": "code",
   "execution_count": 240,
   "metadata": {},
   "outputs": [],
   "source": [
    "from exchange import Rate"
   ]
  },
  {
   "cell_type": "code",
   "execution_count": 242,
   "metadata": {},
   "outputs": [],
   "source": [
    "class NewRate(Rate):\n",
    "    def __init__(self, diff='True', format_='value'):\n",
    "        self.format = format_ \n",
    "        self.diff = diff\n",
    "        if format_ == 'full':\n",
    "            self.diff = False\n",
    "        else:\n",
    "            self.diff = True\n",
    "        \n",
    "    def change_in_the_exchanges(self, currency):\n",
    "        \"\"\"\n",
    "        Возвращает разницу между текущим и предыдущим значениями курса валюты currency \n",
    "        \"\"\"\n",
    "        response = self.exchange_rates()\n",
    "        \n",
    "        if currency in response:\n",
    "            delta = response[currency]['Previous'] - response[currency]['Value']\n",
    "            return delta\n",
    "        else:\n",
    "            return 'Error'\n",
    "    \n",
    "    def eur(self):\n",
    "        \"\"\"\n",
    "        Возвращает разницу между текущим значением курса евро и предыдущим при diff == True, \n",
    "        иначе возвращает данные по евро в формате self.format\n",
    "        \"\"\"\n",
    "        if self.diff == True:\n",
    "            return self.change_in_the_exchanges('EUR')\n",
    "        else:\n",
    "            return self.make_format('EUR')\n",
    "    \n",
    "    def usd(self):\n",
    "        \"\"\"\n",
    "        Возвращает разницу между текущим значением курса доллара и предыдущим при diff == True, \n",
    "        иначе возвращает данные по евро в формате self.format\n",
    "        \"\"\"\n",
    "        if self.diff == True:\n",
    "            return self.change_in_the_exchanges('USD')\n",
    "        else:\n",
    "            return self.make_format('USD')\n",
    "    \n",
    "    def brl(self):\n",
    "        \"\"\"\n",
    "        Возвращает разницу между текущим значением курса бразильского реала и предыдущим при diff == True, \n",
    "        иначе возвращает данные по евро в формате self.format\n",
    "        \"\"\"\n",
    "        if self.diff == True:\n",
    "            return self.change_in_the_exchanges('BRL')\n",
    "        else:\n",
    "            return self.make_format('BRL')"
   ]
  },
  {
   "cell_type": "code",
   "execution_count": 243,
   "metadata": {},
   "outputs": [],
   "source": [
    "rate = NewRate()"
   ]
  },
  {
   "cell_type": "code",
   "execution_count": 244,
   "metadata": {},
   "outputs": [
    {
     "data": {
      "text/plain": [
       "-0.06459999999999866"
      ]
     },
     "execution_count": 244,
     "metadata": {},
     "output_type": "execute_result"
    }
   ],
   "source": [
    "rate.usd()"
   ]
  },
  {
   "cell_type": "code",
   "execution_count": 245,
   "metadata": {},
   "outputs": [
    {
     "data": {
      "text/plain": [
       "-0.16169999999999618"
      ]
     },
     "execution_count": 245,
     "metadata": {},
     "output_type": "execute_result"
    }
   ],
   "source": [
    "rate.eur()"
   ]
  },
  {
   "cell_type": "markdown",
   "metadata": {},
   "source": [
    "Задание 3."
   ]
  },
  {
   "cell_type": "code",
   "execution_count": 246,
   "metadata": {},
   "outputs": [],
   "source": [
    "class Employee:\n",
    "    def __init__(self, name, seniority):\n",
    "        self.name = name\n",
    "        self.seniority = seniority\n",
    "        \n",
    "        self.grade = 1\n",
    "    \n",
    "    def grade_up(self):\n",
    "        \"\"\"Повышает уровень сотрудника\"\"\"\n",
    "        self.grade += 1\n",
    "    \n",
    "    def publish_grade(self):\n",
    "        \"\"\"Публикация результатов аккредитации сотрудников\"\"\"\n",
    "        print(self.name, self.grade)\n",
    "    \n",
    "    def check_if_it_is_time_for_upgrade(self):\n",
    "        pass"
   ]
  },
  {
   "cell_type": "code",
   "execution_count": 247,
   "metadata": {},
   "outputs": [],
   "source": [
    "class Designer(Employee):\n",
    "    def __init__(self, name, seniority, prize):\n",
    "        super().__init__(name, seniority)\n",
    "        \n",
    "        self.seniority += prize * 2\n",
    "        \n",
    "    def check_if_it_is_time_for_upgrade(self):\n",
    "        # для каждой аккредитации увеличиваем счетчик на 1\n",
    "        # пока считаем, что все разработчики проходят аккредитацию\n",
    "        self.seniority += 1\n",
    "        \n",
    "        # условие повышения сотрудника из презентации\n",
    "        if self.seniority % 7 == 0:\n",
    "            self.grade_up()\n",
    "        \n",
    "        # публикация результатов\n",
    "        return self.publish_grade()        "
   ]
  },
  {
   "cell_type": "code",
   "execution_count": 248,
   "metadata": {},
   "outputs": [],
   "source": [
    "Sanya = Designer('Санек', 0, 2)"
   ]
  },
  {
   "cell_type": "code",
   "execution_count": 249,
   "metadata": {},
   "outputs": [
    {
     "name": "stdout",
     "output_type": "stream",
     "text": [
      "Санек 1\n",
      "Санек 1\n",
      "Санек 2\n",
      "Санек 2\n",
      "Санек 2\n",
      "Санек 2\n",
      "Санек 2\n",
      "Санек 2\n",
      "Санек 2\n",
      "Санек 3\n"
     ]
    }
   ],
   "source": [
    "for i in range(10):\n",
    "    Sanya.check_if_it_is_time_for_upgrade()"
   ]
  },
  {
   "cell_type": "code",
   "execution_count": null,
   "metadata": {},
   "outputs": [],
   "source": []
  }
 ],
 "metadata": {
  "kernelspec": {
   "display_name": "Python 3",
   "language": "python",
   "name": "python3"
  },
  "language_info": {
   "codemirror_mode": {
    "name": "ipython",
    "version": 3
   },
   "file_extension": ".py",
   "mimetype": "text/x-python",
   "name": "python",
   "nbconvert_exporter": "python",
   "pygments_lexer": "ipython3",
   "version": "3.8.5"
  }
 },
 "nbformat": 4,
 "nbformat_minor": 4
}
