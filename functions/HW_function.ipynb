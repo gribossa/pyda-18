{
 "cells": [
  {
   "cell_type": "code",
   "execution_count": 128,
   "metadata": {},
   "outputs": [],
   "source": [
    "def input_number_of_document():\n",
    "    num = input('Введите номер документа: ')\n",
    "    return num"
   ]
  },
  {
   "cell_type": "code",
   "execution_count": 129,
   "metadata": {},
   "outputs": [],
   "source": [
    "def number_of_directory():\n",
    "    key_ = input('Введите номер полки: ')\n",
    "    return key_"
   ]
  },
  {
   "cell_type": "code",
   "execution_count": 130,
   "metadata": {},
   "outputs": [],
   "source": [
    "def choise_document(number):\n",
    "    for document in documents:\n",
    "        if number == document['number']:\n",
    "            return document\n",
    "        else: \n",
    "            continue\n",
    "    return"
   ]
  },
  {
   "cell_type": "code",
   "execution_count": 131,
   "metadata": {},
   "outputs": [],
   "source": [
    "def name_by_number(document):\n",
    "    if document != None:\n",
    "        print ('Владелец документа: ', document['name']) \n",
    "    else:\n",
    "        print('Документ не найден в базе')"
   ]
  },
  {
   "cell_type": "code",
   "execution_count": 132,
   "metadata": {},
   "outputs": [],
   "source": [
    "def directory_by_number(number):\n",
    "    list_of_directories = list(directories.keys())\n",
    "    for i  in list_of_directories:\n",
    "        for id_ in directories[i]:\n",
    "            if number == id_:\n",
    "                return i\n",
    "            else:\n",
    "                continue\n",
    "    return "
   ]
  },
  {
   "cell_type": "code",
   "execution_count": 133,
   "metadata": {},
   "outputs": [],
   "source": [
    "def printer_of_directories_number(directories_number):\n",
    "    if directories_number != None:\n",
    "        print('Документ хранится на полке: ', directories_number)\n",
    "    else:\n",
    "        print('Документ не найден в базе')"
   ]
  },
  {
   "cell_type": "code",
   "execution_count": 134,
   "metadata": {},
   "outputs": [],
   "source": [
    "def inform(): \n",
    "    for document in documents:\n",
    "        directory = directory_by_number(document['number'])\n",
    "        print(f\"№: {document['number']}, тип: {document['type']}, владелец: {document['name']}, полка хранения: {directory}\")"
   ]
  },
  {
   "cell_type": "code",
   "execution_count": 135,
   "metadata": {},
   "outputs": [],
   "source": [
    "def list_of_directories():\n",
    "    list_of_directories = list(directories.keys())\n",
    "    return list_of_directories"
   ]
  },
  {
   "cell_type": "code",
   "execution_count": 136,
   "metadata": {},
   "outputs": [],
   "source": [
    "def add_directory(key_, list_of_directories):\n",
    "    value_ = []\n",
    "    if directories.get(key_) == None:\n",
    "        directories[key_] = value_\n",
    "        list_of_directories.append(key_)\n",
    "        print('Полка добавлена. Текущий перечень полок: ', ', '.join(list_of_directories))\n",
    "    else:\n",
    "        print('Такая полка уже существует. Текущий перечень полок: ', ', '.join(list_of_directories))\n",
    "    return directories"
   ]
  },
  {
   "cell_type": "code",
   "execution_count": 137,
   "metadata": {},
   "outputs": [],
   "source": [
    "def remove_directory(key_, list_of_directories):\n",
    "    if directories.get(key_) == []:\n",
    "        del(directories[key_])\n",
    "        list_of_directories.remove(key_)\n",
    "        print('Полка удалена.  Текущий перечень полок: ', ', '.join(list_of_directories))\n",
    "    elif directories.get(key_) == None:\n",
    "        print('Такой полки не существует. Текущий перечень полок: ', ', '.join(list_of_directories))\n",
    "    else:          \n",
    "        print('На полке есть документы, удалите их перед удалением полки. Текущий перечень полок: ', ', '.join(list_of_directories))\n",
    "    return directories"
   ]
  },
  {
   "cell_type": "code",
   "execution_count": 138,
   "metadata": {},
   "outputs": [],
   "source": [
    "def add_document():\n",
    "    number_of_document = input('Введите номер документа: ')\n",
    "    type_of_document = input('Укажите тип документа: ')\n",
    "    name_of_holder = input('Введите имя владельца: ')\n",
    "    documents_directory = input('Укажите номер полки для хранения: ')\n",
    "    if directories.get(documents_directory) != None:\n",
    "        documents.append(dict(type=type_of_document, number=number_of_document, name=name_of_holder))\n",
    "        directories[documents_directory].append(number_of_document)\n",
    "        print('Документ добавлен. Текущий список документов:')\n",
    "    else:\n",
    "        print('Такой полки не существует. Добавьте полку командой as.\\nТекущий список документов:')\n",
    "    inform()\n",
    "    return documents, directories"
   ]
  },
  {
   "cell_type": "code",
   "execution_count": 139,
   "metadata": {},
   "outputs": [],
   "source": [
    "def delete_document(document):\n",
    "    if document != None:\n",
    "        documents.remove(document)\n",
    "        print('Документ удален.')\n",
    "    else:\n",
    "        print('Документ не найден в базе')\n",
    "    print('Текущий список документов:')\n",
    "    inform()\n",
    "    return documents"
   ]
  },
  {
   "cell_type": "code",
   "execution_count": 161,
   "metadata": {},
   "outputs": [],
   "source": [
    "def documents_move(document, key_):\n",
    "    if document != None:\n",
    "        if directories.get(key_) != None:\n",
    "            key_in = directory_by_number(document['number'])\n",
    "            directories[key_in].remove(document['number'])\n",
    "            directories[key_].append(document['number'])\n",
    "            print('Документ перемещен.')\n",
    "        else:\n",
    "            print('Такой полки не существует. Текущий перечень полок: ', ', '.join(list(directories.keys())))\n",
    "            return directories\n",
    "    else:\n",
    "        print('Документ не найден в базе')\n",
    "    print('Текущий список документов:')\n",
    "    inform()\n",
    "    return directories"
   ]
  },
  {
   "cell_type": "code",
   "execution_count": 145,
   "metadata": {},
   "outputs": [],
   "source": [
    "def control_panel():\n",
    "    key_ = input('Введите команду: ')\n",
    "    while key_ != 'q':\n",
    "        if key_ == 'p':\n",
    "            num = input_number_of_document()\n",
    "            document = choise_document(num)\n",
    "            name_by_number(document)\n",
    "            key_ = input('Введите команду: ')\n",
    "        elif key_ == 's':\n",
    "            num = input_number_of_document()\n",
    "            directory = directory_by_number(num)\n",
    "            printer_of_directories_number(directory)\n",
    "            key_ = input('Введите команду: ')\n",
    "        elif key_ == 'l':\n",
    "            inform()\n",
    "            key_ = input('Введите команду: ')\n",
    "        elif key_ == 'ads':\n",
    "            key_in = number_of_directory()\n",
    "            lod = list_of_directories()\n",
    "            add_directory(key_in, lod)\n",
    "            key_ = input('Введите команду: ')\n",
    "        elif key_ == 'ds':\n",
    "            key_in = number_of_directory()\n",
    "            lod = list_of_directories()\n",
    "            remove_directory(key_in, lod)\n",
    "            key_ = input('Введите команду: ')\n",
    "        elif key_ == 'ad':\n",
    "            add_document()\n",
    "            key_ = input('Введите команду: ')\n",
    "        elif key_ == 'd':\n",
    "            num = input_number_of_document()\n",
    "            document = choise_document(num)\n",
    "            delete_document(document)\n",
    "            key_ = input('Введите команду: ')\n",
    "        elif key_ == 'm':\n",
    "            num = input_number_of_document()\n",
    "            document = choise_document(num)\n",
    "            key_in = number_of_directory()\n",
    "            documents_move(document, key_in)\n",
    "            key_ = input('Введите команду: ')\n",
    "        else:\n",
    "            print('Команда не найдена')\n",
    "            key_ = input('Введите команду: ')\n",
    "    return documents, directories"
   ]
  },
  {
   "cell_type": "code",
   "execution_count": 146,
   "metadata": {},
   "outputs": [],
   "source": [
    "def main():\n",
    "    documents = [\n",
    "     {'type': 'passport', 'number': '2207 876234', 'name': 'Василий Гупкин'},\n",
    "     {'type': 'invoice', 'number': '11-2', 'name': 'Геннадий Покемонов'},\n",
    "     {'type': 'insurance', 'number': '10006', 'name': 'Аристарх Павлов'}\n",
    "    ]\n",
    "    \n",
    "    directories = {\n",
    "     '1': ['2207 876234', '11-2'],\n",
    "     '2': ['10006'],\n",
    "     '3': []\n",
    "    }\n",
    "    \n",
    "    control_panel()"
   ]
  },
  {
   "cell_type": "code",
   "execution_count": 162,
   "metadata": {},
   "outputs": [
    {
     "name": "stdout",
     "output_type": "stream",
     "text": [
      "Введите команду: m\n",
      "Введите номер документа: 11-2\n",
      "Введите номер полки: 3\n",
      "Документ перемещен.\n",
      "Текущий список документов:\n",
      "№: 2207 876234, тип: passport, владелец: Василий Гупкин, полка хранения: 1\n",
      "№: 11-2, тип: invoice, владелец: Геннадий Покемонов, полка хранения: 3\n",
      "№: 10006, тип: insurance, владелец: Аристарх Павлов, полка хранения: 2\n",
      "Введите команду: s\n",
      "Введите номер документа: 11-2\n",
      "Документ хранится на полке:  3\n",
      "Введите команду: p\n",
      "Введите номер документа: 10006\n",
      "Владелец документа:  Аристарх Павлов\n",
      "Введите команду: q\n"
     ]
    }
   ],
   "source": [
    "documents = [\n",
    "    {'type': 'passport', 'number': '2207 876234', 'name': 'Василий Гупкин'},\n",
    "    {'type': 'invoice', 'number': '11-2', 'name': 'Геннадий Покемонов'},\n",
    "    {'type': 'insurance', 'number': '10006', 'name': 'Аристарх Павлов'}\n",
    "]\n",
    "    \n",
    "directories = {\n",
    "    '1': ['2207 876234', '11-2'],\n",
    "    '2': ['10006'],\n",
    "    '3': []\n",
    "}\n",
    "    \n",
    "main()"
   ]
  },
  {
   "cell_type": "code",
   "execution_count": null,
   "metadata": {},
   "outputs": [],
   "source": []
  }
 ],
 "metadata": {
  "kernelspec": {
   "display_name": "Python 3",
   "language": "python",
   "name": "python3"
  },
  "language_info": {
   "codemirror_mode": {
    "name": "ipython",
    "version": 3
   },
   "file_extension": ".py",
   "mimetype": "text/x-python",
   "name": "python",
   "nbconvert_exporter": "python",
   "pygments_lexer": "ipython3",
   "version": "3.8.5"
  }
 },
 "nbformat": 4,
 "nbformat_minor": 4
}
