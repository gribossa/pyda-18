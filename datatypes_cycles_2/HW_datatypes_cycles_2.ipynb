{
 "cells": [
  {
   "cell_type": "markdown",
   "metadata": {},
   "source": [
    "Задача 1."
   ]
  },
  {
   "cell_type": "code",
   "execution_count": 8,
   "metadata": {},
   "outputs": [
    {
     "data": {
      "text/plain": [
       "{15, 35, 54, 98, 119, 213}"
      ]
     },
     "execution_count": 8,
     "metadata": {},
     "output_type": "execute_result"
    }
   ],
   "source": [
    "ids = {'user1': [213, 213, 213, 15, 213],\n",
    "'user2': [54, 54, 119, 119, 119],\n",
    "'user3': [213, 98, 98, 35]}\n",
    "ids_list = []\n",
    "for value in ids.values():\n",
    "    i = 0\n",
    "    while i < len(value):\n",
    "        ids_list.append(value[i])\n",
    "        i += 1\n",
    "set(ids_list)"
   ]
  },
  {
   "cell_type": "markdown",
   "metadata": {},
   "source": [
    "Задача 2."
   ]
  },
  {
   "cell_type": "code",
   "execution_count": 29,
   "metadata": {},
   "outputs": [
    {
     "name": "stdout",
     "output_type": "stream",
     "text": [
      "Поисковых запросов, содержащих 2 слов(а):  42.86 %\n",
      "Поисковых запросов, содержащих 3 слов(а):  57.14 %\n"
     ]
    }
   ],
   "source": [
    "queries = [\n",
    "'смотреть сериалы онлайн',\n",
    "'новости спорта',\n",
    "'афиша кино',\n",
    "'курс доллара',\n",
    "'сериалы этим летом',\n",
    "'курс по питону',\n",
    "'сериалы про спорт',\n",
    "]\n",
    "num_list = []\n",
    "for query in queries:\n",
    "    num_list.append(len(query.split(' ')))\n",
    "num_set = set(num_list)\n",
    "for num in num_set:\n",
    "    if num == 2:\n",
    "        print('Поисковых запросов, содержащих 2 слов(а): ', round((num_list.count(2)/len(num_list))*100, 2), '%')\n",
    "    else:\n",
    "        print('Поисковых запросов, содержащих 3 слов(а): ', round((num_list.count(3)/len(num_list))*100, 2), '%')"
   ]
  },
  {
   "cell_type": "markdown",
   "metadata": {},
   "source": [
    "Задача 3."
   ]
  },
  {
   "cell_type": "code",
   "execution_count": 38,
   "metadata": {},
   "outputs": [
    {
     "name": "stdout",
     "output_type": "stream",
     "text": [
      "{'‘vk’': {'revenue': 103, 'cost': 98, 'ROI': 5.1}, '‘yandex’': {'revenue': 179, 'cost': 153, 'ROI': 16.99}, '‘facebook’': {'revenue': 103, 'cost': 110, 'ROI': -6.36}, '‘adwords’': {'revenue': 35, 'cost': 34, 'ROI': 2.94}, '‘twitter’': {'revenue': 11, 'cost': 24, 'ROI': -54.17}}\n"
     ]
    }
   ],
   "source": [
    "results = {\n",
    "'‘vk’': {'revenue': 103, 'cost': 98},\n",
    "'‘yandex’': {'revenue': 179, 'cost': 153},\n",
    "'‘facebook’': {'revenue': 103, 'cost': 110},\n",
    "'‘adwords’': {'revenue': 35, 'cost': 34},\n",
    "'‘twitter’': {'revenue': 11, 'cost': 24},\n",
    "}\n",
    "for result in results.values():\n",
    "    result['ROI'] = round((result['revenue'] / result['cost'] - 1) * 100, 2)\n",
    "print(results)"
   ]
  },
  {
   "cell_type": "markdown",
   "metadata": {},
   "source": [
    "Задача 4."
   ]
  },
  {
   "cell_type": "code",
   "execution_count": 49,
   "metadata": {},
   "outputs": [
    {
     "name": "stdout",
     "output_type": "stream",
     "text": [
      "Максимальный объем продаж на рекламном канале:  vk\n"
     ]
    }
   ],
   "source": [
    "stats = {'facebook': 55, 'yandex': 115, 'vk': 120, 'google': 99, 'email': 42, 'ok': 98}\n",
    "max_value = 0\n",
    "for value in stats.values():\n",
    "    if value > max_value:\n",
    "        max_value = value\n",
    "for key in stats.keys():\n",
    "    if max_value == stats[key]:\n",
    "        print('Максимальный объем продаж на рекламном канале: ', key)   "
   ]
  }
 ],
 "metadata": {
  "kernelspec": {
   "display_name": "Python 3",
   "language": "python",
   "name": "python3"
  },
  "language_info": {
   "codemirror_mode": {
    "name": "ipython",
    "version": 3
   },
   "file_extension": ".py",
   "mimetype": "text/x-python",
   "name": "python",
   "nbconvert_exporter": "python",
   "pygments_lexer": "ipython3",
   "version": "3.8.5"
  }
 },
 "nbformat": 4,
 "nbformat_minor": 4
}
