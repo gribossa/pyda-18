{
 "cells": [
  {
   "cell_type": "markdown",
   "metadata": {},
   "source": [
    "Задача 1."
   ]
  },
  {
   "cell_type": "code",
   "execution_count": 31,
   "metadata": {},
   "outputs": [
    {
     "name": "stdout",
     "output_type": "stream",
     "text": [
      "{98, 35, 15, 213, 54, 119}\n"
     ]
    }
   ],
   "source": [
    "ids = {'user1': [213, 213, 213, 15, 213],\n",
    "'user2': [54, 54, 119, 119, 119],\n",
    "'user3': [213, 98, 98, 35]}\n",
    "ids_set = set()\n",
    "for id_ in ids.values():\n",
    "    ids_set.update(id_)\n",
    "print(ids_set)"
   ]
  },
  {
   "cell_type": "markdown",
   "metadata": {},
   "source": [
    "Задача 2."
   ]
  },
  {
   "cell_type": "code",
   "execution_count": 26,
   "metadata": {
    "scrolled": true
   },
   "outputs": [
    {
     "name": "stdout",
     "output_type": "stream",
     "text": [
      "Поисковых запросов, содержащих 3 слов(а):  {57.14} %\n",
      "Поисковых запросов, содержащих 2 слов(а):  {42.86} %\n"
     ]
    }
   ],
   "source": [
    "queries = [\n",
    "'смотреть сериалы онлайн',\n",
    "'новости спорта',\n",
    "'афиша кино',\n",
    "'курс доллара',\n",
    "'сериалы этим летом',\n",
    "'курс по питону',\n",
    "'сериалы про спорт',\n",
    "]\n",
    "num_list = []\n",
    "num_dict = {}\n",
    "for query in queries:\n",
    "    num_list.append(len(query.split(' ')))\n",
    "for num in num_list:\n",
    "    if num in num_dict:\n",
    "        num_dict[num] += 1\n",
    "    else:\n",
    "        num_dict[num] = 1\n",
    "for num in num_dict.keys():\n",
    "        print(f'Поисковых запросов, содержащих {num} слов(а): ', {round(num_dict[num]/sum(num_dict.values())*100, 2)}, '%')"
   ]
  },
  {
   "cell_type": "markdown",
   "metadata": {},
   "source": [
    "Задача 3."
   ]
  },
  {
   "cell_type": "code",
   "execution_count": 38,
   "metadata": {},
   "outputs": [
    {
     "name": "stdout",
     "output_type": "stream",
     "text": [
      "{'‘vk’': {'revenue': 103, 'cost': 98, 'ROI': 5.1}, '‘yandex’': {'revenue': 179, 'cost': 153, 'ROI': 16.99}, '‘facebook’': {'revenue': 103, 'cost': 110, 'ROI': -6.36}, '‘adwords’': {'revenue': 35, 'cost': 34, 'ROI': 2.94}, '‘twitter’': {'revenue': 11, 'cost': 24, 'ROI': -54.17}}\n"
     ]
    }
   ],
   "source": [
    "results = {\n",
    "'‘vk’': {'revenue': 103, 'cost': 98},\n",
    "'‘yandex’': {'revenue': 179, 'cost': 153},\n",
    "'‘facebook’': {'revenue': 103, 'cost': 110},\n",
    "'‘adwords’': {'revenue': 35, 'cost': 34},\n",
    "'‘twitter’': {'revenue': 11, 'cost': 24},\n",
    "}\n",
    "for result in results.values():\n",
    "    result['ROI'] = round((result['revenue'] / result['cost'] - 1) * 100, 2)\n",
    "print(results)"
   ]
  },
  {
   "cell_type": "markdown",
   "metadata": {},
   "source": [
    "Задача 4."
   ]
  },
  {
   "cell_type": "code",
   "execution_count": 29,
   "metadata": {},
   "outputs": [
    {
     "name": "stdout",
     "output_type": "stream",
     "text": [
      "Максимальный объем продаж на рекламном канале:  vk\n"
     ]
    }
   ],
   "source": [
    "stats = {'facebook': 55, 'yandex': 115, 'vk': 120, 'google': 99, 'email': 42, 'ok': 98}\n",
    "for resource in stats.keys():\n",
    "    if stats[resource] == max(stats.values()):    \n",
    "        print('Максимальный объем продаж на рекламном канале: ', resource)"
   ]
  }
 ],
 "metadata": {
  "kernelspec": {
   "display_name": "Python 3",
   "language": "python",
   "name": "python3"
  },
  "language_info": {
   "codemirror_mode": {
    "name": "ipython",
    "version": 3
   },
   "file_extension": ".py",
   "mimetype": "text/x-python",
   "name": "python",
   "nbconvert_exporter": "python",
   "pygments_lexer": "ipython3",
   "version": "3.8.5"
  }
 },
 "nbformat": 4,
 "nbformat_minor": 4
}
