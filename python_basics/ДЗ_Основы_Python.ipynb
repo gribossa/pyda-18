{
 "cells": [
  {
   "cell_type": "markdown",
   "metadata": {},
   "source": [
    "Задание 1."
   ]
  },
  {
   "cell_type": "code",
   "execution_count": 19,
   "metadata": {},
   "outputs": [
    {
     "name": "stdout",
     "output_type": "stream",
     "text": [
      "Фраза 1: влателм\n",
      "Фраза 2: вледмье\n",
      "Фразы равной длины\n"
     ]
    }
   ],
   "source": [
    "phrase_1 = input ('Фраза 1: ')\n",
    "phrase_2 = input ('Фраза 2: ')\n",
    "if len(phrase_1) > len(phrase_2):\n",
    "    print ('Фраза 1 длиннее фразы 2'),\n",
    "elif len(phrase_1) == len(phrase_2):\n",
    "    print ('Фразы равной длины'),\n",
    "else:\n",
    "    print ('Фраза 2 длиннее фразы 1')"
   ]
  },
  {
   "cell_type": "markdown",
   "metadata": {},
   "source": [
    "Задание 2."
   ]
  },
  {
   "cell_type": "code",
   "execution_count": 17,
   "metadata": {},
   "outputs": [
    {
     "name": "stdout",
     "output_type": "stream",
     "text": [
      "1572\n",
      "Результат: Високосный\n"
     ]
    }
   ],
   "source": [
    "y = int(input())\n",
    "if y%100 == 0:\n",
    "    if y%400 == 0:\n",
    "        print ('Результат: Високосный'),\n",
    "    else:\n",
    "        print ('Результат: Обычный'),\n",
    "elif y%4 == 0:\n",
    "    print ('Результат: Високосный')\n",
    "else:\n",
    "    print ('Результат: Обычный')"
   ]
  },
  {
   "cell_type": "markdown",
   "metadata": {},
   "source": [
    "Задание 3."
   ]
  },
  {
   "cell_type": "code",
   "execution_count": 26,
   "metadata": {},
   "outputs": [
    {
     "name": "stdout",
     "output_type": "stream",
     "text": [
      "Введите день: 17\n",
      "Введите месяц: Май\n",
      "Телец\n"
     ]
    }
   ],
   "source": [
    "b_day = int(input ('Введите день: '))\n",
    "b_month = input ('Введите месяц: ')\n",
    "if (b_month == 'Декабрь' and 22 <= b_day <= 31) or (b_month == 'Январь' and 1 <= b_day < 19):\n",
    "    print ('Козерог'),\n",
    "elif (b_month == 'Январь' and 19<= b_day <= 31) or (b_month == 'Февраль' and 1 <= b_day < 19):\n",
    "    print ('Водолей'),\n",
    "elif (b_month == 'Февраль' and 19<= b_day <= 29) or (b_month == 'Март' and 1 <= b_day < 21): \n",
    "    print ('Рыбы'),\n",
    "elif (b_month == 'Март' and 21<= b_day <= 31) or (b_month == 'Апрель' and 1 <= b_day < 21):\n",
    "    print ('Овен'),\n",
    "elif (b_month == 'Апрель' and 21<= b_day <= 30) or (b_month == 'Май' and 1 <= b_day < 22):\n",
    "    print ('Телец'),\n",
    "elif (b_month == 'Май' and 22<= b_day <= 31) or (b_month == 'Июнь' and 1 <= b_day < 21):\n",
    "    print ('Близнецы'),\n",
    "elif (b_month == 'Июнь' and 21<= b_day <= 30) or (b_month == 'Июль' and 1 <= b_day < 23):\n",
    "    print ('Рак'),\n",
    "elif (b_month == 'Июль' and 23<= b_day <= 31) or (b_month == 'Август' and 1 <= b_day < 23):\n",
    "    print('Лев'),\n",
    "elif (b_month == 'Август' and 23<= b_day <= 31) or (b_month == 'Сентябрь' and 1 <= b_day < 24):\n",
    "    print('Дева'),\n",
    "elif (b_month == 'Сентябрь' and 24<= b_day <= 30) or (b_month == 'Октябрь' and 1 <= b_day < 24):\n",
    "    print ('Весы'),\n",
    "elif (b_month == 'Октябрь' and 24<= b_day <= 31) or (b_month == 'Ноябрь' and 1 <= b_day < 22):\n",
    "    print ('Скорпион'),\n",
    "elif (b_month == 'Ноябрь' and 22<= b_day <= 30) or (b_month == 'Декабрь' and 1 <= b_day < 22):\n",
    "    print ('Стрелец'),\n",
    "else:\n",
    "    print ('Некорректная дата')"
   ]
  },
  {
   "cell_type": "markdown",
   "metadata": {},
   "source": [
    "Задание 4."
   ]
  },
  {
   "cell_type": "code",
   "execution_count": 29,
   "metadata": {},
   "outputs": [
    {
     "name": "stdout",
     "output_type": "stream",
     "text": [
      "Ширина товара: 14\n",
      "Длина товара: 10\n",
      "Высота товара: 35\n",
      "Данный товар упаковывается в коробку №2\n"
     ]
    }
   ],
   "source": [
    "widht = int(input ('Ширина товара: '))\n",
    "lenght = int(input ('Длина товара: '))\n",
    "height = int(input ('Высота товара: '))\n",
    "\n",
    "if lenght > 200:\n",
    "    print (\"Данный товар упаковывается в коробку для лыж\"),\n",
    "elif (15 < widht < 50) or (15 < lenght < 50) or (15 < height < 50):\n",
    "    print (\"Данный товар упаковывается в коробку №2\"),\n",
    "elif (widht <= 15) and (lenght <= 15) and (height <= 15):\n",
    "    print (\"Данный товар упакавывается в коробку №1\"),\n",
    "else:\n",
    "    print (\"Данный товар упаковывается в коробку №3\")"
   ]
  },
  {
   "cell_type": "code",
   "execution_count": null,
   "metadata": {},
   "outputs": [],
   "source": []
  }
 ],
 "metadata": {
  "kernelspec": {
   "display_name": "Python 3",
   "language": "python",
   "name": "python3"
  },
  "language_info": {
   "codemirror_mode": {
    "name": "ipython",
    "version": 3
   },
   "file_extension": ".py",
   "mimetype": "text/x-python",
   "name": "python",
   "nbconvert_exporter": "python",
   "pygments_lexer": "ipython3",
   "version": "3.8.5"
  }
 },
 "nbformat": 4,
 "nbformat_minor": 4
}
