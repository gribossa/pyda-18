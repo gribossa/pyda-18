{
 "cells": [
  {
   "cell_type": "markdown",
   "metadata": {},
   "source": [
    "Задание 1."
   ]
  },
  {
   "cell_type": "code",
   "execution_count": 2,
   "metadata": {},
   "outputs": [],
   "source": [
    "from datetime import datetime"
   ]
  },
  {
   "cell_type": "code",
   "execution_count": 8,
   "metadata": {},
   "outputs": [
    {
     "data": {
      "text/plain": [
       "datetime.datetime(2002, 10, 2, 0, 0)"
      ]
     },
     "execution_count": 8,
     "metadata": {},
     "output_type": "execute_result"
    }
   ],
   "source": [
    "the_moscow_times = 'Wednesday, October 2, 2002'\n",
    "the_moscow_times_datetime = datetime.strptime(the_moscow_times, '%A, %B %d, %Y')\n",
    "the_moscow_times_datetime"
   ]
  },
  {
   "cell_type": "code",
   "execution_count": 6,
   "metadata": {},
   "outputs": [
    {
     "data": {
      "text/plain": [
       "datetime.datetime(2013, 10, 11, 0, 0)"
      ]
     },
     "execution_count": 6,
     "metadata": {},
     "output_type": "execute_result"
    }
   ],
   "source": [
    "the_guardian = 'Friday, 11.10.13'\n",
    "the_guardian_datetime = datetime.strptime(the_guardian, '%A, %d.%m.%y')\n",
    "the_guardian_datetime"
   ]
  },
  {
   "cell_type": "code",
   "execution_count": 7,
   "metadata": {},
   "outputs": [
    {
     "data": {
      "text/plain": [
       "datetime.datetime(1977, 8, 18, 0, 0)"
      ]
     },
     "execution_count": 7,
     "metadata": {},
     "output_type": "execute_result"
    }
   ],
   "source": [
    "daily_news = 'Thursday, 18 August 1977'\n",
    "daily_news_datetime = datetime.strptime(daily_news, '%A, %d %B %Y')\n",
    "daily_news_datetime"
   ]
  },
  {
   "cell_type": "markdown",
   "metadata": {},
   "source": [
    "Задание 2."
   ]
  },
  {
   "cell_type": "code",
   "execution_count": 30,
   "metadata": {},
   "outputs": [
    {
     "name": "stdout",
     "output_type": "stream",
     "text": [
      "True\n",
      "False\n",
      "False\n"
     ]
    }
   ],
   "source": [
    "stream = ['2018-04-02', '2018-02-29', '2018-19-02']\n",
    "\n",
    "for date_ in stream:\n",
    "    if int(date_[5:7]) > 0 and int(date_[5:7]) < 13:\n",
    "            if int(date_[5:7]) == 1 or int(date_[5:7]) == 3 or int(date_[5:7]) == 5 or int(date_[5:7]) == 7 or int(date_[5:7]) == 8 or int(date_[5:7]) == 10 or int(date_[5:7]) == 12:\n",
    "                if int(date_[-2:]) > 0 and int(date_[-2:]) < 32:\n",
    "                    print('True')\n",
    "                else:\n",
    "                    print('False')\n",
    "            elif int(date_[5:7]) == 4 or int(date_[5:7]) == 6 or int(date_[5:7]) == 9 or int(date_[5:7]) == 11:\n",
    "                if int(date_[-2:]) > 0 and int(date_[-2:]) < 31:\n",
    "                    print('True')\n",
    "                else:\n",
    "                    print('False')\n",
    "            elif int(date_[5:7]) == 2:\n",
    "                if int(date_[:4]) % 4 == 0 or (int(date_[:4]) % 100 == 0 and int(date_[:4]) % 400 == 0):\n",
    "                    if int(date_[-2:]) > 0 and int(date_[-2:]) < 30:\n",
    "                        print('True')\n",
    "                    else:\n",
    "                        print('False')\n",
    "                else:\n",
    "                    if int(date_[-2:]) > 0 and int(date_[-2:]) < 29:\n",
    "                        print('True')\n",
    "                    else:\n",
    "                        print('False') \n",
    "            else:\n",
    "                print('False')\n",
    "    else:\n",
    "        print('False')"
   ]
  },
  {
   "cell_type": "markdown",
   "metadata": {},
   "source": [
    "Задание 3."
   ]
  },
  {
   "cell_type": "code",
   "execution_count": 32,
   "metadata": {},
   "outputs": [],
   "source": [
    "from datetime import timedelta"
   ]
  },
  {
   "cell_type": "code",
   "execution_count": 40,
   "metadata": {},
   "outputs": [],
   "source": [
    "def date_range(start_dt, end_dt):\n",
    "    if start_dt < end_dt:\n",
    "        current_dt = start_dt\n",
    "        while current_dt <= end_dt:\n",
    "            print(datetime.strftime(current_dt, '%Y-%m-%d'))\n",
    "            current_dt += timedelta(days=1)        \n",
    "    else:\n",
    "        return []"
   ]
  },
  {
   "cell_type": "code",
   "execution_count": 42,
   "metadata": {},
   "outputs": [
    {
     "name": "stdout",
     "output_type": "stream",
     "text": [
      "Введите начальную дату в формате YYYY-MM-DD: 5 апреля 2005\n",
      "Введите конечную дату в формате YYYY-MM-DD: 7 мая 2010\n",
      "Некорректный формат данных\n",
      "Введите начальную дату в формате YYYY-MM-DD: 2021-04-09\n",
      "Введите конечную дату в формате YYYY-MM-DD: 2021-05-06\n",
      "2021-04-09\n",
      "2021-04-10\n",
      "2021-04-11\n",
      "2021-04-12\n",
      "2021-04-13\n",
      "2021-04-14\n",
      "2021-04-15\n",
      "2021-04-16\n",
      "2021-04-17\n",
      "2021-04-18\n",
      "2021-04-19\n",
      "2021-04-20\n",
      "2021-04-21\n",
      "2021-04-22\n",
      "2021-04-23\n",
      "2021-04-24\n",
      "2021-04-25\n",
      "2021-04-26\n",
      "2021-04-27\n",
      "2021-04-28\n",
      "2021-04-29\n",
      "2021-04-30\n",
      "2021-05-01\n",
      "2021-05-02\n",
      "2021-05-03\n",
      "2021-05-04\n",
      "2021-05-05\n",
      "2021-05-06\n"
     ]
    }
   ],
   "source": [
    "start_date = input('Введите начальную дату в формате YYYY-MM-DD: ')\n",
    "end_date = input('Введите конечную дату в формате YYYY-MM-DD: ')\n",
    "\n",
    "try:\n",
    "    start_dt = datetime.strptime(start_date, '%Y-%m-%d')\n",
    "    end_dt = datetime.strptime(end_date, '%Y-%m-%d')\n",
    "except:\n",
    "    print('Некорректный формат данных')\n",
    "    start_date = input('Введите начальную дату в формате YYYY-MM-DD: ')\n",
    "    end_date = input('Введите конечную дату в формате YYYY-MM-DD: ')\n",
    "\n",
    "date_range(start_dt, end_dt)"
   ]
  },
  {
   "cell_type": "markdown",
   "metadata": {},
   "source": [
    "Задание 4."
   ]
  },
  {
   "cell_type": "code",
   "execution_count": 66,
   "metadata": {},
   "outputs": [
    {
     "data": {
      "text/plain": [
       "'A101'"
      ]
     },
     "execution_count": 66,
     "metadata": {},
     "output_type": "execute_result"
    }
   ],
   "source": [
    "DEFAULT_USER_COUNT = 3\n",
    "\n",
    "def delete_and_return_last_user(region, default_list=['A100', 'A101', 'A102']):\n",
    "    \"\"\"\n",
    "    Удаляет из списка default_list последнего пользователя\n",
    "    и возвращает ID нового последнего пользователя.\n",
    "    \"\"\"\n",
    "    element_to_delete = default_list[-1]\n",
    "    default_list.remove(element_to_delete)\n",
    "    return default_list[DEFAULT_USER_COUNT-2]\n",
    "\n",
    "delete_and_return_last_user(1)"
   ]
  },
  {
   "cell_type": "markdown",
   "metadata": {},
   "source": [
    "1. Ошибка list index out of range означает, что запрошенного индекса нет в списке, скорее всего, потому что длина всего списка меньше или равна данному индексу\n",
    "2. Данная ошибка возникает из-за того, что в строке return default_list[DEFAULT_USER_COUNT-2] происходит попытка обратиться к элементу списка, индекс которого расчитывается на основании значения глобальной переменной и всегда равен одному и тому же числу, а именно 1, но после второго удаления элементов, длина списка сократится до одного элемента с индексом 0, что приведет к указанной ошибке при попытке вернуть значение из функции"
   ]
  },
  {
   "cell_type": "code",
   "execution_count": null,
   "metadata": {},
   "outputs": [],
   "source": []
  }
 ],
 "metadata": {
  "kernelspec": {
   "display_name": "Python 3",
   "language": "python",
   "name": "python3"
  },
  "language_info": {
   "codemirror_mode": {
    "name": "ipython",
    "version": 3
   },
   "file_extension": ".py",
   "mimetype": "text/x-python",
   "name": "python",
   "nbconvert_exporter": "python",
   "pygments_lexer": "ipython3",
   "version": "3.8.5"
  }
 },
 "nbformat": 4,
 "nbformat_minor": 4
}
