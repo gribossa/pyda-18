{
 "cells": [
  {
   "cell_type": "code",
   "execution_count": 1,
   "metadata": {},
   "outputs": [],
   "source": [
    "import pandas as pd"
   ]
  },
  {
   "cell_type": "markdown",
   "metadata": {},
   "source": [
    "Задача 1."
   ]
  },
  {
   "cell_type": "code",
   "execution_count": 16,
   "metadata": {},
   "outputs": [],
   "source": [
    "df_movies = pd.read_csv('/Users/sonyasha/Downloads/ml-25m/movies.csv')\n",
    "df_ratings = pd.read_csv('/Users/sonyasha/Downloads/ml-25m/ratings.csv')"
   ]
  },
  {
   "cell_type": "code",
   "execution_count": 27,
   "metadata": {},
   "outputs": [],
   "source": [
    "df = df_movies.merge(df_ratings,\n",
    "               left_on='movieId',\n",
    "               right_on='movieId',\n",
    "               how='inner')"
   ]
  },
  {
   "cell_type": "code",
   "execution_count": 75,
   "metadata": {},
   "outputs": [],
   "source": [
    "rating = df[ df.rating == 5.0 ]['title'].value_counts()"
   ]
  },
  {
   "cell_type": "code",
   "execution_count": 81,
   "metadata": {},
   "outputs": [
    {
     "data": {
      "text/plain": [
       "['Shawshank Redemption, The (1994)']"
      ]
     },
     "execution_count": 81,
     "metadata": {},
     "output_type": "execute_result"
    }
   ],
   "source": [
    "rating.loc[rating == max(rating)].index.to_list()"
   ]
  },
  {
   "cell_type": "markdown",
   "metadata": {},
   "source": [
    "Задача 2."
   ]
  },
  {
   "cell_type": "code",
   "execution_count": 82,
   "metadata": {},
   "outputs": [],
   "source": [
    "df_power = pd.read_csv('/Users/sonyasha/Downloads/10/power.csv')"
   ]
  },
  {
   "cell_type": "code",
   "execution_count": 112,
   "metadata": {},
   "outputs": [],
   "source": [
    "countries_filter = df_power[ (df_power['country']=='Estonia') | (df_power['country']=='Latvia') | (df_power['country']=='Lithuania') ]"
   ]
  },
  {
   "cell_type": "code",
   "execution_count": 113,
   "metadata": {},
   "outputs": [],
   "source": [
    "categories_filter = countries_filter[ (countries_filter['category']==4) | (countries_filter['category']==12) | (countries_filter['category']==21) ]"
   ]
  },
  {
   "cell_type": "code",
   "execution_count": 114,
   "metadata": {},
   "outputs": [],
   "source": [
    "years_filter = categories_filter[ (categories_filter['year'] >= 2005) & (categories_filter['year'] <= 2010)]"
   ]
  },
  {
   "cell_type": "code",
   "execution_count": 115,
   "metadata": {},
   "outputs": [],
   "source": [
    "quantity_filter = years_filter[ years_filter.quantity >= 0 ]"
   ]
  },
  {
   "cell_type": "code",
   "execution_count": 117,
   "metadata": {},
   "outputs": [
    {
     "data": {
      "text/plain": [
       "240580.0"
      ]
     },
     "execution_count": 117,
     "metadata": {},
     "output_type": "execute_result"
    }
   ],
   "source": [
    "sum(quantity_filter['quantity'])"
   ]
  },
  {
   "cell_type": "markdown",
   "metadata": {},
   "source": [
    "Задача 3."
   ]
  },
  {
   "cell_type": "code",
   "execution_count": 118,
   "metadata": {},
   "outputs": [],
   "source": [
    "page_url = 'https://www.finanz.ru/valyuty/v-realnom-vremeni-rub'"
   ]
  },
  {
   "cell_type": "code",
   "execution_count": 119,
   "metadata": {},
   "outputs": [],
   "source": [
    "df = pd.read_html(page_url, attrs = {'class': 'quote_list'}, encoding='utf-8')"
   ]
  },
  {
   "cell_type": "code",
   "execution_count": 121,
   "metadata": {},
   "outputs": [
    {
     "data": {
      "text/plain": [
       "[    Unnamed: 0   Основные валюты  Предложение  Спрос  Предыдущее закрытие  \\\n",
       " 0          NaN           USD/RUB       753685      -               750370   \n",
       " 1          NaN           EUR/RUB       907960      -               904085   \n",
       " 2          NaN           GBP/RUB      1045779      -              1036790   \n",
       " 3          NaN           CNY/RUB       116443      -               115896   \n",
       " 4          NaN           JPY/RUB        06885      -                06866   \n",
       " 5          NaN           CHF/RUB       824101      -               822417   \n",
       " 6          NaN  Остальные валюты  Предложение  Спрос  Предыдущее закрытие   \n",
       " 7          NaN           TWD/RUB        26979      -                26856   \n",
       " 8          NaN           SGD/RUB       566063      -               564021   \n",
       " 9          NaN           AUD/RUB       583078      -               579423   \n",
       " 10         NaN           NZD/RUB       540865      -               538048   \n",
       " 11         NaN           CAD/RUB       613234      -               610630   \n",
       " 12         NaN           HKD/RUB        97050      -                96613   \n",
       " 13         NaN           NOK/RUB        90656      -                90328   \n",
       " 14         NaN           BRL/RUB       138672      -               137937   \n",
       " 15         NaN           DKK/RUB       122111      -               121341   \n",
       " 16         NaN           INR/RUB        10203      -                10135   \n",
       " 17         NaN           KRW/RUB        00672      -                00671   \n",
       " 18         NaN           MXN/RUB        37180      -                37074   \n",
       " 19         NaN           HKD/RUB        97050      -                96613   \n",
       " 20         NaN           PLN/RUB       199500      -               197981   \n",
       " 21         NaN           CZK/RUB        35240      -                34886   \n",
       " 22         NaN           SEK/RUB        89182      -                88720   \n",
       " 23         NaN           THB/RUB        24169      -                24117   \n",
       " 24         NaN           TRY/RUB        90706      -                90483   \n",
       " 25         NaN           AED/RUB       205221      -               204296   \n",
       " \n",
       "          %  Абсолютное значение     Время  \n",
       " 0   0,44 %                03315  15:05:00  \n",
       " 1   0,43 %                03875  15:05:00  \n",
       " 2   0,87 %                08990  15:05:00  \n",
       " 3   0,47 %                00547  15:05:00  \n",
       " 4   0,28 %                00019  15:05:00  \n",
       " 5   0,20 %                01684  15:05:00  \n",
       " 6        %  Абсолютное значение     Время  \n",
       " 7   0,46 %                00123  15:05:00  \n",
       " 8   0,36 %                02042  15:05:00  \n",
       " 9   0,63 %                03656  15:05:00  \n",
       " 10  0,52 %                02816  15:05:00  \n",
       " 11  0,43 %                02605  15:05:00  \n",
       " 12  0,45 %                00437  15:05:00  \n",
       " 13  0,36 %                00327  15:05:00  \n",
       " 14  0,53 %                00734  15:05:00  \n",
       " 15  0,64 %                00771  15:05:00  \n",
       " 16  0,67 %                00068  15:05:00  \n",
       " 17  0,05 %                00000  15:05:00  \n",
       " 18  0,29 %                00106  15:05:00  \n",
       " 19  0,45 %                00437  15:05:00  \n",
       " 20  0,77 %                01518  15:05:00  \n",
       " 21  1,02 %                00354  15:05:00  \n",
       " 22  0,52 %                00462  15:05:00  \n",
       " 23  0,21 %                00052  15:05:00  \n",
       " 24  0,25 %                00222  15:05:00  \n",
       " 25  0,45 %                00925  15:05:00  ]"
      ]
     },
     "execution_count": 121,
     "metadata": {},
     "output_type": "execute_result"
    }
   ],
   "source": [
    "df[:5]"
   ]
  },
  {
   "cell_type": "code",
   "execution_count": null,
   "metadata": {},
   "outputs": [],
   "source": []
  }
 ],
 "metadata": {
  "kernelspec": {
   "display_name": "Python 3",
   "language": "python",
   "name": "python3"
  },
  "language_info": {
   "codemirror_mode": {
    "name": "ipython",
    "version": 3
   },
   "file_extension": ".py",
   "mimetype": "text/x-python",
   "name": "python",
   "nbconvert_exporter": "python",
   "pygments_lexer": "ipython3",
   "version": "3.8.5"
  }
 },
 "nbformat": 4,
 "nbformat_minor": 4
}
