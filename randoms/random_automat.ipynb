{
 "cells": [
  {
   "cell_type": "code",
   "execution_count": 1,
   "metadata": {},
   "outputs": [],
   "source": [
    "import numpy as np"
   ]
  },
  {
   "cell_type": "code",
   "execution_count": 7,
   "metadata": {},
   "outputs": [
    {
     "name": "stdout",
     "output_type": "stream",
     "text": [
      "Суммарный выигрыш: -619, Частота успеха: 0.2012\n"
     ]
    }
   ],
   "source": [
    "trials = 10000\n",
    "sum_ = 0\n",
    "successes = 0\n",
    "\n",
    "for i in range(trials):\n",
    "    random_score = np.random.randint(1, 1000)\n",
    "    if random_score == 777:\n",
    "        sum_ += 200\n",
    "        successes += 1\n",
    "    elif random_score == 999:\n",
    "        sum_ += 100\n",
    "        successes += 1\n",
    "    elif random_score == 555:\n",
    "        sum_ += 50\n",
    "        successes += 1\n",
    "    elif random_score == 333:\n",
    "        sum_ += 15\n",
    "        successes += 1\n",
    "    elif random_score == 111:\n",
    "        sum_ += 10\n",
    "        successes += 1\n",
    "    elif random_score%100 == 77:\n",
    "        sum_ += 5\n",
    "        successes += 1\n",
    "    elif random_score%10 == 7:\n",
    "        sum_ += 3\n",
    "        successes += 1\n",
    "    elif random_score%100 == 0:\n",
    "        sum_ += 2\n",
    "        successes += 1\n",
    "    elif random_score%10 == 0:\n",
    "        sum_ += 1\n",
    "        successes += 1\n",
    "    else:\n",
    "        sum_ -= 1\n",
    "        \n",
    "p_monte_carlo = successes / trials\n",
    "\n",
    "print(f'Суммарный выигрыш: {sum_}, Частота успеха: {p_monte_carlo}')"
   ]
  },
  {
   "cell_type": "markdown",
   "metadata": {},
   "source": [
    "Расчет теоретической вероятности"
   ]
  },
  {
   "cell_type": "code",
   "execution_count": 2,
   "metadata": {},
   "outputs": [
    {
     "data": {
      "text/plain": [
       "-0.05999999999999994"
      ]
     },
     "execution_count": 2,
     "metadata": {},
     "output_type": "execute_result"
    }
   ],
   "source": [
    "#H1: 'Выпало 777'   H5: 'Выпало 111'   H9: 'Выпало **0'  \n",
    "#H2: 'Выпало 999'   H6: 'Выпало *77'\n",
    "#H3: 'Выпало 555'   H7: 'Выпало **7'\n",
    "#H4: 'Выпало 333'   H8: 'Выпало *00'\n",
    "\n",
    "H1 = H2 = H3 = H4 = H5 = 0.001\n",
    "H6 = 0.009\n",
    "H7 = 0.079\n",
    "H8 = 0.01\n",
    "H9 = 0.08\n",
    "H10 = 1 - (H1 + H2 + H3 + H4 + H5 + H6 + H7 + H8 + H9)\n",
    "\n",
    "sum_of_winning = H1*200 + H2*100 + H3*50 + H4*15 + H5*10 + H6*5 + H7*3 + H8*2 + H9*1 + H10* (-1)\n",
    "sum_of_winning"
   ]
  },
  {
   "cell_type": "code",
   "execution_count": null,
   "metadata": {},
   "outputs": [],
   "source": []
  }
 ],
 "metadata": {
  "kernelspec": {
   "display_name": "Python 3",
   "language": "python",
   "name": "python3"
  },
  "language_info": {
   "codemirror_mode": {
    "name": "ipython",
    "version": 3
   },
   "file_extension": ".py",
   "mimetype": "text/x-python",
   "name": "python",
   "nbconvert_exporter": "python",
   "pygments_lexer": "ipython3",
   "version": "3.8.5"
  }
 },
 "nbformat": 4,
 "nbformat_minor": 4
}
