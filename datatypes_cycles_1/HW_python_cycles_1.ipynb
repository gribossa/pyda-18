{
 "cells": [
  {
   "cell_type": "markdown",
   "metadata": {},
   "source": [
    "Задача 1."
   ]
  },
  {
   "cell_type": "code",
   "execution_count": 19,
   "metadata": {
    "scrolled": true
   },
   "outputs": [
    {
     "name": "stdout",
     "output_type": "stream",
     "text": [
      "Введите слово: яблоко\n",
      "л о\n"
     ]
    }
   ],
   "source": [
    "word=input('Введите слово: ')\n",
    "if len(word)%2==0:\n",
    "    mid=int(len(word)/2)\n",
    "    print(word[mid-1],word[mid])\n",
    "else:\n",
    "    mid=int((len(word)-1)/2)\n",
    "    print(word[mid])"
   ]
  },
  {
   "cell_type": "markdown",
   "metadata": {},
   "source": [
    "Задача 2."
   ]
  },
  {
   "cell_type": "code",
   "execution_count": 21,
   "metadata": {},
   "outputs": [
    {
     "name": "stdout",
     "output_type": "stream",
     "text": [
      "Введите число: 8\n",
      "Введите число: 9\n",
      "Введите число: 5\n",
      "Введите число: 0\n",
      "22\n"
     ]
    }
   ],
   "source": [
    "x=int(input('Введите число: '))\n",
    "y=0\n",
    "while x!=0:\n",
    "    y=x+y\n",
    "    x=int(input('Введите число: '))\n",
    "print(y)"
   ]
  },
  {
   "cell_type": "markdown",
   "metadata": {},
   "source": [
    "Задача 3. "
   ]
  },
  {
   "cell_type": "code",
   "execution_count": 24,
   "metadata": {
    "scrolled": true
   },
   "outputs": [
    {
     "name": "stdout",
     "output_type": "stream",
     "text": [
      "['Адександр', 'Константин', 'Николай', 'Тимофей', 'Юрий']\n",
      "Идеальные пары:\n",
      "Адександр и Алина\n",
      "Константин и Варвара\n",
      "Николай и Ольга\n",
      "Тимофей и Светлана\n",
      "Юрий и Ярослава\n"
     ]
    }
   ],
   "source": [
    "boys=['Константин', 'Адександр', 'Юрий', 'Тимофей', 'Николай']\n",
    "girls=['Алина', 'Светлана', 'Варвара', 'Ярослава', 'Ольга']\n",
    "if len(girls)==len(boys):\n",
    "    sort_boys=sorted(boys)\n",
    "    sort_girls=sorted(girls)\n",
    "    print(sort_boys)\n",
    "    print('Идеальные пары:')\n",
    "    i=0\n",
    "    for element in sort_boys:\n",
    "        print(f'{element} и {sort_girls[i]}')\n",
    "        i+=1\n",
    "else:\n",
    "    print('К сожалению, кто-то комжет остаться без пары')"
   ]
  },
  {
   "cell_type": "markdown",
   "metadata": {},
   "source": [
    "Задача 4."
   ]
  },
  {
   "cell_type": "code",
   "execution_count": 112,
   "metadata": {},
   "outputs": [
    {
     "name": "stdout",
     "output_type": "stream",
     "text": [
      "Средняя температура в странах:\n",
      "Thailand: 23.9 C\n",
      "Germany: 13.8 C\n",
      "Russia: 3.7 C\n",
      "Poland: 12.0 C\n"
     ]
    }
   ],
   "source": [
    "countries_temperature = [\n",
    "['Thailand', [75.2, 77, 78.8, 73.4, 68, 75.2, 77]],\n",
    "['Germany', [57.2, 55.4, 59, 59, 53.6]],\n",
    "['Russia', [35.6, 37.4, 39.2, 41, 42.8, 39.2, 35.6]],\n",
    "['Poland', [50, 50, 53.6, 57.2, 55.4, 55.4]]\n",
    "]\n",
    "mid_temp_in_Cels_list=[]\n",
    "i=0\n",
    "print('Средняя температура в странах:')\n",
    "for country in countries_temperature:\n",
    "    temp=0\n",
    "    for element in countries_temperature[i][1]:\n",
    "        temp=temp+element\n",
    "    mid_temp=temp/len(countries_temperature[i][1])\n",
    "    mid_temp_in_Cels=(mid_temp-32)/1.8\n",
    "    mid_temp_in_Cels_list.append(mid_temp_in_Cels)\n",
    "    print(f'{country[0]}: {round(mid_temp_in_Cels_list[i],1)} C')\n",
    "    i=i+1"
   ]
  },
  {
   "cell_type": "code",
   "execution_count": null,
   "metadata": {},
   "outputs": [],
   "source": []
  }
 ],
 "metadata": {
  "kernelspec": {
   "display_name": "Python 3",
   "language": "python",
   "name": "python3"
  },
  "language_info": {
   "codemirror_mode": {
    "name": "ipython",
    "version": 3
   },
   "file_extension": ".py",
   "mimetype": "text/x-python",
   "name": "python",
   "nbconvert_exporter": "python",
   "pygments_lexer": "ipython3",
   "version": "3.8.5"
  }
 },
 "nbformat": 4,
 "nbformat_minor": 4
}
